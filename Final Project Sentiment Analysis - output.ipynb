{
 "cells": [
  {
   "cell_type": "code",
   "execution_count": 134,
   "metadata": {},
   "outputs": [],
   "source": [
    "import pandas as pd\n",
    "import nltk\n",
    "from nltk.util import ngrams\n",
    "nltk.download('punkt')\n",
    "nltk.download('vader_lexicon')"
   ]
  },
  {
   "cell_type": "code",
   "execution_count": 169,
   "metadata": {},
   "outputs": [
    {
     "data": {
      "text/html": [
       "<div>\n",
       "<style scoped>\n",
       "    .dataframe tbody tr th:only-of-type {\n",
       "        vertical-align: middle;\n",
       "    }\n",
       "\n",
       "    .dataframe tbody tr th {\n",
       "        vertical-align: top;\n",
       "    }\n",
       "\n",
       "    .dataframe thead th {\n",
       "        text-align: right;\n",
       "    }\n",
       "</style>\n",
       "<table border=\"1\" class=\"dataframe\">\n",
       "  <thead>\n",
       "    <tr style=\"text-align: right;\">\n",
       "      <th></th>\n",
       "      <th>summary</th>\n",
       "      <th>review_id</th>\n",
       "      <th>bank_id</th>\n",
       "      <th>bank_name</th>\n",
       "      <th>user_id</th>\n",
       "      <th>rating</th>\n",
       "      <th>review</th>\n",
       "      <th>date_posted</th>\n",
       "    </tr>\n",
       "  </thead>\n",
       "  <tbody>\n",
       "    <tr>\n",
       "      <th>0</th>\n",
       "      <td>Ally Bank Online Deposits</td>\n",
       "      <td>40107</td>\n",
       "      <td>277</td>\n",
       "      <td>Ally Bank</td>\n",
       "      <td>65053</td>\n",
       "      <td>1</td>\n",
       "      <td>Be advised Ally Bank does not accept any money...</td>\n",
       "      <td>2019-11-23</td>\n",
       "    </tr>\n",
       "    <tr>\n",
       "      <th>1</th>\n",
       "      <td>Extensive Hold Times, To Use Your Own Money</td>\n",
       "      <td>39617</td>\n",
       "      <td>277</td>\n",
       "      <td>Ally Bank</td>\n",
       "      <td>64905</td>\n",
       "      <td>2</td>\n",
       "      <td>Zelle payment - payments placed on hold, requi...</td>\n",
       "      <td>2019-11-19</td>\n",
       "    </tr>\n",
       "    <tr>\n",
       "      <th>2</th>\n",
       "      <td>Nice People, But Incompetent...</td>\n",
       "      <td>39341</td>\n",
       "      <td>277</td>\n",
       "      <td>Ally Bank</td>\n",
       "      <td>24865</td>\n",
       "      <td>1</td>\n",
       "      <td>Every single transaction I have attempted at A...</td>\n",
       "      <td>2019-10-24</td>\n",
       "    </tr>\n",
       "    <tr>\n",
       "      <th>3</th>\n",
       "      <td>IRA Issues</td>\n",
       "      <td>39305</td>\n",
       "      <td>277</td>\n",
       "      <td>Ally Bank</td>\n",
       "      <td>63876</td>\n",
       "      <td>1</td>\n",
       "      <td>Do not deal with their IRA department. I moved...</td>\n",
       "      <td>2019-10-21</td>\n",
       "    </tr>\n",
       "    <tr>\n",
       "      <th>4</th>\n",
       "      <td>Love Ally Overall But</td>\n",
       "      <td>39256</td>\n",
       "      <td>277</td>\n",
       "      <td>Ally Bank</td>\n",
       "      <td>58796</td>\n",
       "      <td>5</td>\n",
       "      <td>Been with ally 7 plus years. Have had at least...</td>\n",
       "      <td>2019-10-17</td>\n",
       "    </tr>\n",
       "  </tbody>\n",
       "</table>\n",
       "</div>"
      ],
      "text/plain": [
       "                                       summary  review_id  bank_id  bank_name  \\\n",
       "0                    Ally Bank Online Deposits      40107      277  Ally Bank   \n",
       "1  Extensive Hold Times, To Use Your Own Money      39617      277  Ally Bank   \n",
       "2              Nice People, But Incompetent...      39341      277  Ally Bank   \n",
       "3                                   IRA Issues      39305      277  Ally Bank   \n",
       "4                        Love Ally Overall But      39256      277  Ally Bank   \n",
       "\n",
       "   user_id  rating                                             review  \\\n",
       "0    65053       1  Be advised Ally Bank does not accept any money...   \n",
       "1    64905       2  Zelle payment - payments placed on hold, requi...   \n",
       "2    24865       1  Every single transaction I have attempted at A...   \n",
       "3    63876       1  Do not deal with their IRA department. I moved...   \n",
       "4    58796       5  Been with ally 7 plus years. Have had at least...   \n",
       "\n",
       "  date_posted  \n",
       "0  2019-11-23  \n",
       "1  2019-11-19  \n",
       "2  2019-10-24  \n",
       "3  2019-10-21  \n",
       "4  2019-10-17  "
      ]
     },
     "execution_count": 169,
     "metadata": {},
     "output_type": "execute_result"
    }
   ],
   "source": [
    "# read data\n",
    "reviews_df = pd.read_csv('./scripts/FinalProject/review_data.csv',index_col=[0])\n",
    "reviews_df = reviews_df.loc[reviews_df.bank_name == 'Ally Bank'].reset_index(drop = True)\n",
    "reviews_df.head()\n",
    "# len(reviews_df)"
   ]
  },
  {
   "cell_type": "code",
   "execution_count": 170,
   "metadata": {},
   "outputs": [
    {
     "data": {
      "text/html": [
       "<div>\n",
       "<style scoped>\n",
       "    .dataframe tbody tr th:only-of-type {\n",
       "        vertical-align: middle;\n",
       "    }\n",
       "\n",
       "    .dataframe tbody tr th {\n",
       "        vertical-align: top;\n",
       "    }\n",
       "\n",
       "    .dataframe thead th {\n",
       "        text-align: right;\n",
       "    }\n",
       "</style>\n",
       "<table border=\"1\" class=\"dataframe\">\n",
       "  <thead>\n",
       "    <tr style=\"text-align: right;\">\n",
       "      <th></th>\n",
       "      <th>review</th>\n",
       "      <th>is_bad_review</th>\n",
       "    </tr>\n",
       "  </thead>\n",
       "  <tbody>\n",
       "    <tr>\n",
       "      <th>0</th>\n",
       "      <td>Be advised Ally Bank does not accept any money...</td>\n",
       "      <td>1</td>\n",
       "    </tr>\n",
       "    <tr>\n",
       "      <th>1</th>\n",
       "      <td>Zelle payment - payments placed on hold, requi...</td>\n",
       "      <td>1</td>\n",
       "    </tr>\n",
       "    <tr>\n",
       "      <th>2</th>\n",
       "      <td>Every single transaction I have attempted at A...</td>\n",
       "      <td>1</td>\n",
       "    </tr>\n",
       "    <tr>\n",
       "      <th>3</th>\n",
       "      <td>Do not deal with their IRA department. I moved...</td>\n",
       "      <td>1</td>\n",
       "    </tr>\n",
       "    <tr>\n",
       "      <th>4</th>\n",
       "      <td>Been with ally 7 plus years. Have had at least...</td>\n",
       "      <td>0</td>\n",
       "    </tr>\n",
       "  </tbody>\n",
       "</table>\n",
       "</div>"
      ],
      "text/plain": [
       "                                              review  is_bad_review\n",
       "0  Be advised Ally Bank does not accept any money...              1\n",
       "1  Zelle payment - payments placed on hold, requi...              1\n",
       "2  Every single transaction I have attempted at A...              1\n",
       "3  Do not deal with their IRA department. I moved...              1\n",
       "4  Been with ally 7 plus years. Have had at least...              0"
      ]
     },
     "execution_count": 170,
     "metadata": {},
     "output_type": "execute_result"
    }
   ],
   "source": [
    "# create new column\n",
    "reviews_df[\"is_bad_review\"] = reviews_df[\"rating\"].apply(lambda x: 1 if x < 3 else 0)\n",
    "# pick most relevant columns\n",
    "reviews_df = reviews_df[[\"review\", \"is_bad_review\"]]\n",
    "reviews_df['review']= reviews_df['review'].apply(str)\n",
    "#reviews_df['review'].dropna(inplace=True)\n",
    "reviews_df.head(5)"
   ]
  },
  {
   "cell_type": "markdown",
   "metadata": {},
   "source": [
    "### Clean Data"
   ]
  },
  {
   "cell_type": "code",
   "execution_count": 171,
   "metadata": {},
   "outputs": [],
   "source": [
    "import string\n",
    "from nltk import pos_tag\n",
    "from nltk.corpus import stopwords\n",
    "from nltk.tokenize import WhitespaceTokenizer\n",
    "from nltk.stem import WordNetLemmatizer,SnowballStemmer\n",
    "import re\n",
    "from nltk.tokenize import word_tokenize\n",
    "from nltk.stem.porter import PorterStemmer"
   ]
  },
  {
   "cell_type": "code",
   "execution_count": 172,
   "metadata": {},
   "outputs": [],
   "source": [
    "def preprocess(text):\n",
    "   # split into words\n",
    "    text = word_tokenize(text)\n",
    "    # convert to lower case\n",
    "    text= [w.lower() for w in text]\n",
    "    # remove punctuation from each word\n",
    "    table = str.maketrans('', '', string.punctuation)\n",
    "    text = [w.translate(table) for w in text]\n",
    "    # remove remaining tokens that are not alphabetic\n",
    "    text = [word for word in text if word.isalpha()]\n",
    "    meaningless_words = ['br', 'ally', 'suntrust', 'bofa', 'citi', 'capital one', 'capitalone360',\n",
    "                        'bank america']\n",
    "    #remove meaningless word\n",
    "    text = [word for word in text if word.lower() not in meaningless_words]\n",
    "    # remove stop words\n",
    "    stop = stopwords.words('english')\n",
    "    text = [x for x in text if x not in stop]\n",
    "    # stemming of words\n",
    "#     porter = PorterStemmer()\n",
    "#     text = [porter.stem(word) for word in text]\n",
    "    \n",
    "    # join all\n",
    "    text = \" \".join(text)\n",
    "    return(text)"
   ]
  },
  {
   "cell_type": "code",
   "execution_count": null,
   "metadata": {},
   "outputs": [],
   "source": []
  },
  {
   "cell_type": "code",
   "execution_count": 173,
   "metadata": {},
   "outputs": [],
   "source": [
    "#Checking with sample review\n",
    "import gensim\n",
    "from gensim.utils import simple_preprocess\n",
    "from gensim.parsing.preprocessing import STOPWORDS\n",
    "from nltk.stem.porter import *\n",
    "import numpy as np\n",
    "import nltk"
   ]
  },
  {
   "cell_type": "code",
   "execution_count": 174,
   "metadata": {},
   "outputs": [
    {
     "name": "stdout",
     "output_type": "stream",
     "text": [
      "original document: \n",
      "['Been', 'with', 'ally', '7', 'plus', 'years.', 'Have', 'had', 'at', 'least', '12', 'different', 'CD', 'and', 'a', 'reg', 'saving', 'acct.', \"I've\", 'been', 'able', 'to', 'transfer', 'each', 'CD', 'when', \"it's\", 'up', 'for', 'renewal', 'with', 'no', 'problems', '<br/><br/>Only', 'neg', 'is', 'in', 'last', '9-12', 'months', 'they', \"haven't\", 'been', 'as', 'competitive', 'as', 'other', 'online', 'banks.', 'I', 'have', 'now', '3', 'other', 'banks', 'because', 'of', 'that', 'but', 'still', 'have', '5', 'CD', 'with', 'ally<br/><br/>When', 'each', 'on', 'comes', 'due', 'will', 'see', 'rates.', '<br/><br/>And', '98%', 'if', 'time', 'I', 'call,', 'wait', 'time', 'under', '5', 'minutes<br/><br/>Yes', 'one', 'time', 'when', 'they', 'offered', 'a', 'GREAT', '14', 'month', 'CD,', 'everyone', 'wanted', 'that', 'and', 'wait', 'time', 'was', '15', 'minutes.', 'No', 'big', 'deal']\n",
      "\n",
      "\n",
      " tokenized and lemmatized document: \n",
      "plus years least different cd reg saving acct able transfer cd renewal problems neg last months nt competitive online banks banks still cd comes due see rates time call wait time minutes yes one time offered great month cd everyone wanted wait time minutes big deal\n"
     ]
    }
   ],
   "source": [
    "doc_sample = reviews_df.loc[4,'review']\n",
    "print('original document: ')\n",
    "words = []\n",
    "for word in doc_sample.split(' '):\n",
    "    words.append(word)\n",
    "print(words)\n",
    "print('\\n\\n tokenized and lemmatized document: ')\n",
    "print(preprocess(doc_sample))"
   ]
  },
  {
   "cell_type": "code",
   "execution_count": 175,
   "metadata": {},
   "outputs": [
    {
     "data": {
      "text/html": [
       "<div>\n",
       "<style scoped>\n",
       "    .dataframe tbody tr th:only-of-type {\n",
       "        vertical-align: middle;\n",
       "    }\n",
       "\n",
       "    .dataframe tbody tr th {\n",
       "        vertical-align: top;\n",
       "    }\n",
       "\n",
       "    .dataframe thead th {\n",
       "        text-align: right;\n",
       "    }\n",
       "</style>\n",
       "<table border=\"1\" class=\"dataframe\">\n",
       "  <thead>\n",
       "    <tr style=\"text-align: right;\">\n",
       "      <th></th>\n",
       "      <th>review</th>\n",
       "      <th>is_bad_review</th>\n",
       "      <th>review_clean</th>\n",
       "    </tr>\n",
       "  </thead>\n",
       "  <tbody>\n",
       "    <tr>\n",
       "      <th>0</th>\n",
       "      <td>Be advised Ally Bank does not accept any money...</td>\n",
       "      <td>1</td>\n",
       "      <td>advised bank accept money orders including us ...</td>\n",
       "    </tr>\n",
       "  </tbody>\n",
       "</table>\n",
       "</div>"
      ],
      "text/plain": [
       "                                              review  is_bad_review  \\\n",
       "0  Be advised Ally Bank does not accept any money...              1   \n",
       "\n",
       "                                        review_clean  \n",
       "0  advised bank accept money orders including us ...  "
      ]
     },
     "execution_count": 175,
     "metadata": {},
     "output_type": "execute_result"
    }
   ],
   "source": [
    "# create new review column(clean)\n",
    "reviews_df['review_clean'] = pd.DataFrame(reviews_df['review'].map(preprocess))\n",
    "reviews_df.head(1)"
   ]
  },
  {
   "cell_type": "markdown",
   "metadata": {},
   "source": [
    "### Feature Engineering"
   ]
  },
  {
   "cell_type": "code",
   "execution_count": 176,
   "metadata": {},
   "outputs": [],
   "source": [
    "# add sentiment anaylsis columns\n",
    "from nltk.sentiment.vader import SentimentIntensityAnalyzer\n",
    "\n",
    "sid = SentimentIntensityAnalyzer()\n",
    "reviews_df[\"sentiments\"] = reviews_df[\"review_clean\"].apply(lambda x: sid.polarity_scores(x))\n",
    "# print(reviews_df[\"sentiments\"])\n",
    "reviews_df = pd.concat([reviews_df.drop(['sentiments'], axis=1), reviews_df['sentiments'].apply(pd.Series)], axis=1)\n",
    "# reviews_df.drop(columns  =['sentiments'], inplace = True)\n"
   ]
  },
  {
   "cell_type": "code",
   "execution_count": 177,
   "metadata": {},
   "outputs": [
    {
     "data": {
      "text/html": [
       "<div>\n",
       "<style scoped>\n",
       "    .dataframe tbody tr th:only-of-type {\n",
       "        vertical-align: middle;\n",
       "    }\n",
       "\n",
       "    .dataframe tbody tr th {\n",
       "        vertical-align: top;\n",
       "    }\n",
       "\n",
       "    .dataframe thead th {\n",
       "        text-align: right;\n",
       "    }\n",
       "</style>\n",
       "<table border=\"1\" class=\"dataframe\">\n",
       "  <thead>\n",
       "    <tr style=\"text-align: right;\">\n",
       "      <th></th>\n",
       "      <th>review</th>\n",
       "      <th>is_bad_review</th>\n",
       "      <th>review_clean</th>\n",
       "      <th>neg</th>\n",
       "      <th>neu</th>\n",
       "      <th>pos</th>\n",
       "      <th>compound</th>\n",
       "    </tr>\n",
       "  </thead>\n",
       "  <tbody>\n",
       "    <tr>\n",
       "      <th>0</th>\n",
       "      <td>Be advised Ally Bank does not accept any money...</td>\n",
       "      <td>1</td>\n",
       "      <td>advised bank accept money orders including us ...</td>\n",
       "      <td>0.104</td>\n",
       "      <td>0.783</td>\n",
       "      <td>0.113</td>\n",
       "      <td>0.0516</td>\n",
       "    </tr>\n",
       "    <tr>\n",
       "      <th>1</th>\n",
       "      <td>Zelle payment - payments placed on hold, requi...</td>\n",
       "      <td>1</td>\n",
       "      <td>zelle payment payments placed hold required mi...</td>\n",
       "      <td>0.082</td>\n",
       "      <td>0.820</td>\n",
       "      <td>0.098</td>\n",
       "      <td>0.1027</td>\n",
       "    </tr>\n",
       "    <tr>\n",
       "      <th>2</th>\n",
       "      <td>Every single transaction I have attempted at A...</td>\n",
       "      <td>1</td>\n",
       "      <td>every single transaction attempted last two ye...</td>\n",
       "      <td>0.053</td>\n",
       "      <td>0.855</td>\n",
       "      <td>0.092</td>\n",
       "      <td>0.3612</td>\n",
       "    </tr>\n",
       "    <tr>\n",
       "      <th>3</th>\n",
       "      <td>Do not deal with their IRA department. I moved...</td>\n",
       "      <td>1</td>\n",
       "      <td>deal ira department moved ira sep june time co...</td>\n",
       "      <td>0.022</td>\n",
       "      <td>0.941</td>\n",
       "      <td>0.036</td>\n",
       "      <td>0.3818</td>\n",
       "    </tr>\n",
       "    <tr>\n",
       "      <th>4</th>\n",
       "      <td>Been with ally 7 plus years. Have had at least...</td>\n",
       "      <td>0</td>\n",
       "      <td>plus years least different cd reg saving acct ...</td>\n",
       "      <td>0.051</td>\n",
       "      <td>0.789</td>\n",
       "      <td>0.160</td>\n",
       "      <td>0.7003</td>\n",
       "    </tr>\n",
       "  </tbody>\n",
       "</table>\n",
       "</div>"
      ],
      "text/plain": [
       "                                              review  is_bad_review  \\\n",
       "0  Be advised Ally Bank does not accept any money...              1   \n",
       "1  Zelle payment - payments placed on hold, requi...              1   \n",
       "2  Every single transaction I have attempted at A...              1   \n",
       "3  Do not deal with their IRA department. I moved...              1   \n",
       "4  Been with ally 7 plus years. Have had at least...              0   \n",
       "\n",
       "                                        review_clean    neg    neu    pos  \\\n",
       "0  advised bank accept money orders including us ...  0.104  0.783  0.113   \n",
       "1  zelle payment payments placed hold required mi...  0.082  0.820  0.098   \n",
       "2  every single transaction attempted last two ye...  0.053  0.855  0.092   \n",
       "3  deal ira department moved ira sep june time co...  0.022  0.941  0.036   \n",
       "4  plus years least different cd reg saving acct ...  0.051  0.789  0.160   \n",
       "\n",
       "   compound  \n",
       "0    0.0516  \n",
       "1    0.1027  \n",
       "2    0.3612  \n",
       "3    0.3818  \n",
       "4    0.7003  "
      ]
     },
     "execution_count": 177,
     "metadata": {},
     "output_type": "execute_result"
    }
   ],
   "source": [
    "reviews_df.columns\n",
    "reviews_df.head(5)"
   ]
  },
  {
   "cell_type": "code",
   "execution_count": 178,
   "metadata": {},
   "outputs": [],
   "source": [
    "# add number of characters column\n",
    "reviews_df[\"nb_chars\"] = reviews_df[\"review_clean\"].apply(lambda x: len(x))"
   ]
  },
  {
   "cell_type": "code",
   "execution_count": 179,
   "metadata": {},
   "outputs": [],
   "source": [
    "# add number of words column\n",
    "reviews_df[\"nb_words\"] = reviews_df[\"review_clean\"].apply(lambda x: len(x.split(\" \")))"
   ]
  },
  {
   "cell_type": "code",
   "execution_count": 180,
   "metadata": {},
   "outputs": [],
   "source": [
    "# create doc2vec vector columns\n",
    "from gensim.test.utils import common_texts\n",
    "from gensim.models.doc2vec import Doc2Vec, TaggedDocument\n",
    "\n",
    "documents = [TaggedDocument(doc, [i]) for i, doc in enumerate(reviews_df[\"review_clean\"].apply(lambda x: x.split(\" \")))]\n"
   ]
  },
  {
   "cell_type": "code",
   "execution_count": 181,
   "metadata": {},
   "outputs": [],
   "source": [
    "# train a Doc2Vec model with our text data\n",
    "model = Doc2Vec(documents, vector_size=5, window=2, min_count=1, workers=4)"
   ]
  },
  {
   "cell_type": "code",
   "execution_count": 182,
   "metadata": {},
   "outputs": [],
   "source": [
    "# transform each document into a vector data\n",
    "doc2vec_df = reviews_df[\"review_clean\"].apply(lambda x: model.infer_vector(x.split(\" \"))).apply(pd.Series)\n",
    "doc2vec_df.columns = [\"doc2vec_vector_\" + str(x) for x in doc2vec_df.columns]\n",
    "reviews_df = pd.concat([reviews_df, doc2vec_df], axis=1)"
   ]
  },
  {
   "cell_type": "code",
   "execution_count": 183,
   "metadata": {
    "scrolled": true
   },
   "outputs": [
    {
     "data": {
      "text/html": [
       "<div>\n",
       "<style scoped>\n",
       "    .dataframe tbody tr th:only-of-type {\n",
       "        vertical-align: middle;\n",
       "    }\n",
       "\n",
       "    .dataframe tbody tr th {\n",
       "        vertical-align: top;\n",
       "    }\n",
       "\n",
       "    .dataframe thead th {\n",
       "        text-align: right;\n",
       "    }\n",
       "</style>\n",
       "<table border=\"1\" class=\"dataframe\">\n",
       "  <thead>\n",
       "    <tr style=\"text-align: right;\">\n",
       "      <th></th>\n",
       "      <th>review</th>\n",
       "      <th>is_bad_review</th>\n",
       "      <th>review_clean</th>\n",
       "      <th>neg</th>\n",
       "      <th>neu</th>\n",
       "      <th>pos</th>\n",
       "      <th>compound</th>\n",
       "      <th>nb_chars</th>\n",
       "      <th>nb_words</th>\n",
       "      <th>doc2vec_vector_0</th>\n",
       "      <th>doc2vec_vector_1</th>\n",
       "      <th>doc2vec_vector_2</th>\n",
       "      <th>doc2vec_vector_3</th>\n",
       "      <th>doc2vec_vector_4</th>\n",
       "    </tr>\n",
       "  </thead>\n",
       "  <tbody>\n",
       "    <tr>\n",
       "      <th>0</th>\n",
       "      <td>Be advised Ally Bank does not accept any money...</td>\n",
       "      <td>1</td>\n",
       "      <td>advised bank accept money orders including us ...</td>\n",
       "      <td>0.104</td>\n",
       "      <td>0.783</td>\n",
       "      <td>0.113</td>\n",
       "      <td>0.0516</td>\n",
       "      <td>141</td>\n",
       "      <td>20</td>\n",
       "      <td>0.392874</td>\n",
       "      <td>-0.276597</td>\n",
       "      <td>-0.115732</td>\n",
       "      <td>-0.548981</td>\n",
       "      <td>-0.020388</td>\n",
       "    </tr>\n",
       "    <tr>\n",
       "      <th>1</th>\n",
       "      <td>Zelle payment - payments placed on hold, requi...</td>\n",
       "      <td>1</td>\n",
       "      <td>zelle payment payments placed hold required mi...</td>\n",
       "      <td>0.082</td>\n",
       "      <td>0.820</td>\n",
       "      <td>0.098</td>\n",
       "      <td>0.1027</td>\n",
       "      <td>173</td>\n",
       "      <td>22</td>\n",
       "      <td>0.322267</td>\n",
       "      <td>-0.321609</td>\n",
       "      <td>-0.044720</td>\n",
       "      <td>-0.432353</td>\n",
       "      <td>-0.168304</td>\n",
       "    </tr>\n",
       "    <tr>\n",
       "      <th>2</th>\n",
       "      <td>Every single transaction I have attempted at A...</td>\n",
       "      <td>1</td>\n",
       "      <td>every single transaction attempted last two ye...</td>\n",
       "      <td>0.053</td>\n",
       "      <td>0.855</td>\n",
       "      <td>0.092</td>\n",
       "      <td>0.3612</td>\n",
       "      <td>618</td>\n",
       "      <td>83</td>\n",
       "      <td>0.972556</td>\n",
       "      <td>-0.702556</td>\n",
       "      <td>-0.346901</td>\n",
       "      <td>-1.607823</td>\n",
       "      <td>-0.280501</td>\n",
       "    </tr>\n",
       "    <tr>\n",
       "      <th>3</th>\n",
       "      <td>Do not deal with their IRA department. I moved...</td>\n",
       "      <td>1</td>\n",
       "      <td>deal ira department moved ira sep june time co...</td>\n",
       "      <td>0.022</td>\n",
       "      <td>0.941</td>\n",
       "      <td>0.036</td>\n",
       "      <td>0.3818</td>\n",
       "      <td>782</td>\n",
       "      <td>108</td>\n",
       "      <td>1.077316</td>\n",
       "      <td>-0.846297</td>\n",
       "      <td>-0.479342</td>\n",
       "      <td>-1.703481</td>\n",
       "      <td>-0.425257</td>\n",
       "    </tr>\n",
       "    <tr>\n",
       "      <th>4</th>\n",
       "      <td>Been with ally 7 plus years. Have had at least...</td>\n",
       "      <td>0</td>\n",
       "      <td>plus years least different cd reg saving acct ...</td>\n",
       "      <td>0.051</td>\n",
       "      <td>0.789</td>\n",
       "      <td>0.160</td>\n",
       "      <td>0.7003</td>\n",
       "      <td>265</td>\n",
       "      <td>46</td>\n",
       "      <td>0.079493</td>\n",
       "      <td>-0.105325</td>\n",
       "      <td>-0.074775</td>\n",
       "      <td>-0.292852</td>\n",
       "      <td>-0.133128</td>\n",
       "    </tr>\n",
       "  </tbody>\n",
       "</table>\n",
       "</div>"
      ],
      "text/plain": [
       "                                              review  is_bad_review  \\\n",
       "0  Be advised Ally Bank does not accept any money...              1   \n",
       "1  Zelle payment - payments placed on hold, requi...              1   \n",
       "2  Every single transaction I have attempted at A...              1   \n",
       "3  Do not deal with their IRA department. I moved...              1   \n",
       "4  Been with ally 7 plus years. Have had at least...              0   \n",
       "\n",
       "                                        review_clean    neg    neu    pos  \\\n",
       "0  advised bank accept money orders including us ...  0.104  0.783  0.113   \n",
       "1  zelle payment payments placed hold required mi...  0.082  0.820  0.098   \n",
       "2  every single transaction attempted last two ye...  0.053  0.855  0.092   \n",
       "3  deal ira department moved ira sep june time co...  0.022  0.941  0.036   \n",
       "4  plus years least different cd reg saving acct ...  0.051  0.789  0.160   \n",
       "\n",
       "   compound  nb_chars  nb_words  doc2vec_vector_0  doc2vec_vector_1  \\\n",
       "0    0.0516       141        20          0.392874         -0.276597   \n",
       "1    0.1027       173        22          0.322267         -0.321609   \n",
       "2    0.3612       618        83          0.972556         -0.702556   \n",
       "3    0.3818       782       108          1.077316         -0.846297   \n",
       "4    0.7003       265        46          0.079493         -0.105325   \n",
       "\n",
       "   doc2vec_vector_2  doc2vec_vector_3  doc2vec_vector_4  \n",
       "0         -0.115732         -0.548981         -0.020388  \n",
       "1         -0.044720         -0.432353         -0.168304  \n",
       "2         -0.346901         -1.607823         -0.280501  \n",
       "3         -0.479342         -1.703481         -0.425257  \n",
       "4         -0.074775         -0.292852         -0.133128  "
      ]
     },
     "execution_count": 183,
     "metadata": {},
     "output_type": "execute_result"
    }
   ],
   "source": [
    "reviews_df.head()"
   ]
  },
  {
   "cell_type": "markdown",
   "metadata": {},
   "source": [
    "### Exploratory Data Analysis"
   ]
  },
  {
   "cell_type": "code",
   "execution_count": 184,
   "metadata": {},
   "outputs": [
    {
     "data": {
      "text/plain": [
       "0    0.783784\n",
       "1    0.216216\n",
       "Name: is_bad_review, dtype: float64"
      ]
     },
     "execution_count": 184,
     "metadata": {},
     "output_type": "execute_result"
    }
   ],
   "source": [
    "# show is_bad_review distribution\n",
    "reviews_df[\"is_bad_review\"].value_counts(normalize = True)"
   ]
  },
  {
   "cell_type": "code",
   "execution_count": 213,
   "metadata": {},
   "outputs": [
    {
     "data": {
      "image/png": "[encoded data removed]",
      "text/plain": [
       "<Figure size 1080x1080 with 1 Axes>"
      ]
     },
     "metadata": {
      "needs_background": "light"
     },
     "output_type": "display_data"
    }
   ],
   "source": [
    "# wordcloud function\n",
    "from wordcloud import WordCloud\n",
    "import matplotlib.pyplot as plt\n",
    "\n",
    "def show_wordcloud(data, title = None):\n",
    "    wordcloud = WordCloud(\n",
    "        background_color = 'white',\n",
    "        max_words = 100,\n",
    "        max_font_size = 30, \n",
    "        scale = 3,\n",
    "        random_state = 42\n",
    "    ).generate(str(data))\n",
    "\n",
    "    fig = plt.figure(1, figsize = (15, 15))\n",
    "    plt.axis('off')\n",
    "    if title: \n",
    "        fig.suptitle(title, fontsize = 15)\n",
    "        fig.subplots_adjust(top = 2.3)\n",
    "\n",
    "    plt.imshow(wordcloud)\n",
    "    plt.show()\n",
    "    \n",
    "# print wordcloud\n",
    "show_wordcloud(reviews_df[\"review\"])"
   ]
  },
  {
   "cell_type": "code",
   "execution_count": 186,
   "metadata": {},
   "outputs": [
    {
     "data": {
      "text/html": [
       "<div>\n",
       "<style scoped>\n",
       "    .dataframe tbody tr th:only-of-type {\n",
       "        vertical-align: middle;\n",
       "    }\n",
       "\n",
       "    .dataframe tbody tr th {\n",
       "        vertical-align: top;\n",
       "    }\n",
       "\n",
       "    .dataframe thead th {\n",
       "        text-align: right;\n",
       "    }\n",
       "</style>\n",
       "<table border=\"1\" class=\"dataframe\">\n",
       "  <thead>\n",
       "    <tr style=\"text-align: right;\">\n",
       "      <th></th>\n",
       "      <th>review</th>\n",
       "      <th>pos</th>\n",
       "    </tr>\n",
       "  </thead>\n",
       "  <tbody>\n",
       "    <tr>\n",
       "      <th>515</th>\n",
       "      <td>I really love this bank. I've used them for a ...</td>\n",
       "      <td>0.738</td>\n",
       "    </tr>\n",
       "    <tr>\n",
       "      <th>141</th>\n",
       "      <td>Great bank if you like having your money held ...</td>\n",
       "      <td>0.557</td>\n",
       "    </tr>\n",
       "    <tr>\n",
       "      <th>589</th>\n",
       "      <td>Ally banking has been a breath of fresh air wi...</td>\n",
       "      <td>0.522</td>\n",
       "    </tr>\n",
       "    <tr>\n",
       "      <th>157</th>\n",
       "      <td>Ally Bank was my first experience with online ...</td>\n",
       "      <td>0.493</td>\n",
       "    </tr>\n",
       "    <tr>\n",
       "      <th>417</th>\n",
       "      <td>I have been banking with Ally for over 3 years...</td>\n",
       "      <td>0.479</td>\n",
       "    </tr>\n",
       "    <tr>\n",
       "      <th>588</th>\n",
       "      <td>Ally Bank's philosophy is to ensure the consum...</td>\n",
       "      <td>0.473</td>\n",
       "    </tr>\n",
       "    <tr>\n",
       "      <th>579</th>\n",
       "      <td>This bank has good telephone customer service....</td>\n",
       "      <td>0.470</td>\n",
       "    </tr>\n",
       "    <tr>\n",
       "      <th>394</th>\n",
       "      <td>I initially chose Ally because they appeared t...</td>\n",
       "      <td>0.464</td>\n",
       "    </tr>\n",
       "    <tr>\n",
       "      <th>650</th>\n",
       "      <td>I'm not a fan of the banking industry, but thu...</td>\n",
       "      <td>0.461</td>\n",
       "    </tr>\n",
       "    <tr>\n",
       "      <th>316</th>\n",
       "      <td>I have had an online savings account with Ally...</td>\n",
       "      <td>0.459</td>\n",
       "    </tr>\n",
       "  </tbody>\n",
       "</table>\n",
       "</div>"
      ],
      "text/plain": [
       "                                                review    pos\n",
       "515  I really love this bank. I've used them for a ...  0.738\n",
       "141  Great bank if you like having your money held ...  0.557\n",
       "589  Ally banking has been a breath of fresh air wi...  0.522\n",
       "157  Ally Bank was my first experience with online ...  0.493\n",
       "417  I have been banking with Ally for over 3 years...  0.479\n",
       "588  Ally Bank's philosophy is to ensure the consum...  0.473\n",
       "579  This bank has good telephone customer service....  0.470\n",
       "394  I initially chose Ally because they appeared t...  0.464\n",
       "650  I'm not a fan of the banking industry, but thu...  0.461\n",
       "316  I have had an online savings account with Ally...  0.459"
      ]
     },
     "execution_count": 186,
     "metadata": {},
     "output_type": "execute_result"
    }
   ],
   "source": [
    "# highest positive sentiment reviews (with more than 5 words)\n",
    "reviews_df[reviews_df[\"nb_words\"] >= 5].sort_values(\"pos\", ascending = False)[[\"review\", \"pos\"]].head(10)"
   ]
  },
  {
   "cell_type": "code",
   "execution_count": 187,
   "metadata": {},
   "outputs": [
    {
     "data": {
      "text/html": [
       "<div>\n",
       "<style scoped>\n",
       "    .dataframe tbody tr th:only-of-type {\n",
       "        vertical-align: middle;\n",
       "    }\n",
       "\n",
       "    .dataframe tbody tr th {\n",
       "        vertical-align: top;\n",
       "    }\n",
       "\n",
       "    .dataframe thead th {\n",
       "        text-align: right;\n",
       "    }\n",
       "</style>\n",
       "<table border=\"1\" class=\"dataframe\">\n",
       "  <thead>\n",
       "    <tr style=\"text-align: right;\">\n",
       "      <th></th>\n",
       "      <th>review</th>\n",
       "      <th>neg</th>\n",
       "    </tr>\n",
       "  </thead>\n",
       "  <tbody>\n",
       "    <tr>\n",
       "      <th>403</th>\n",
       "      <td>What a nightmare! Their fraud department is ju...</td>\n",
       "      <td>0.503</td>\n",
       "    </tr>\n",
       "    <tr>\n",
       "      <th>609</th>\n",
       "      <td>Their customer service is all outsourced. Horr...</td>\n",
       "      <td>0.368</td>\n",
       "    </tr>\n",
       "    <tr>\n",
       "      <th>641</th>\n",
       "      <td>I had quite a few negative experiences with Al...</td>\n",
       "      <td>0.308</td>\n",
       "    </tr>\n",
       "    <tr>\n",
       "      <th>632</th>\n",
       "      <td>Spent 2 weeks setting up account, sending in s...</td>\n",
       "      <td>0.302</td>\n",
       "    </tr>\n",
       "    <tr>\n",
       "      <th>126</th>\n",
       "      <td>call wait time used to be a few minutes, but b...</td>\n",
       "      <td>0.302</td>\n",
       "    </tr>\n",
       "    <tr>\n",
       "      <th>587</th>\n",
       "      <td>My auto loan is through Ally. I've had not tro...</td>\n",
       "      <td>0.290</td>\n",
       "    </tr>\n",
       "    <tr>\n",
       "      <th>595</th>\n",
       "      <td>The worst customer service in my life. One dep...</td>\n",
       "      <td>0.289</td>\n",
       "    </tr>\n",
       "    <tr>\n",
       "      <th>37</th>\n",
       "      <td>With CIT now at a stunning 2.45%, Ally needs t...</td>\n",
       "      <td>0.279</td>\n",
       "    </tr>\n",
       "    <tr>\n",
       "      <th>528</th>\n",
       "      <td>I got with this bank four years ago. I had to ...</td>\n",
       "      <td>0.262</td>\n",
       "    </tr>\n",
       "    <tr>\n",
       "      <th>636</th>\n",
       "      <td>I switched to Ally from Wells Fargo since they...</td>\n",
       "      <td>0.253</td>\n",
       "    </tr>\n",
       "  </tbody>\n",
       "</table>\n",
       "</div>"
      ],
      "text/plain": [
       "                                                review    neg\n",
       "403  What a nightmare! Their fraud department is ju...  0.503\n",
       "609  Their customer service is all outsourced. Horr...  0.368\n",
       "641  I had quite a few negative experiences with Al...  0.308\n",
       "632  Spent 2 weeks setting up account, sending in s...  0.302\n",
       "126  call wait time used to be a few minutes, but b...  0.302\n",
       "587  My auto loan is through Ally. I've had not tro...  0.290\n",
       "595  The worst customer service in my life. One dep...  0.289\n",
       "37   With CIT now at a stunning 2.45%, Ally needs t...  0.279\n",
       "528  I got with this bank four years ago. I had to ...  0.262\n",
       "636  I switched to Ally from Wells Fargo since they...  0.253"
      ]
     },
     "execution_count": 187,
     "metadata": {},
     "output_type": "execute_result"
    }
   ],
   "source": [
    "# lowest negative sentiment reviews (with more than 5 words)\n",
    "reviews_df[reviews_df[\"nb_words\"] >= 5].sort_values(\"neg\", ascending = False)[[\"review\", \"neg\"]].head(10)"
   ]
  },
  {
   "cell_type": "code",
   "execution_count": 188,
   "metadata": {},
   "outputs": [
    {
     "data": {
      "image/png": "[encoded data removed]",
      "text/plain": [
       "<Figure size 432x288 with 1 Axes>"
      ]
     },
     "metadata": {
      "needs_background": "light"
     },
     "output_type": "display_data"
    }
   ],
   "source": [
    "# plot sentiment distribution for positive and negative reviews\n",
    "import seaborn as sns\n",
    "for x in [0, 1]:\n",
    "    subset = reviews_df[reviews_df['is_bad_review'] == x]\n",
    "    # Draw the density plot\n",
    "    if x == 0:\n",
    "        label = \"Good reviews\"\n",
    "    else:\n",
    "        label = \"Bad reviews\"\n",
    "    sns.distplot(subset['compound'], hist = False, label = label)"
   ]
  },
  {
   "cell_type": "markdown",
   "metadata": {},
   "source": [
    "### Model Selection"
   ]
  },
  {
   "cell_type": "code",
   "execution_count": 189,
   "metadata": {},
   "outputs": [
    {
     "data": {
      "text/plain": [
       "Index(['review', 'is_bad_review', 'review_clean', 'neg', 'neu', 'pos',\n",
       "       'compound', 'nb_chars', 'nb_words', 'doc2vec_vector_0',\n",
       "       'doc2vec_vector_1', 'doc2vec_vector_2', 'doc2vec_vector_3',\n",
       "       'doc2vec_vector_4'],\n",
       "      dtype='object')"
      ]
     },
     "execution_count": 189,
     "metadata": {},
     "output_type": "execute_result"
    }
   ],
   "source": [
    "reviews_df.columns"
   ]
  },
  {
   "cell_type": "code",
   "execution_count": 190,
   "metadata": {},
   "outputs": [],
   "source": [
    "# feature selection\n",
    "label = \"is_bad_review\"\n",
    "vectors = [ 'neg', 'neu', 'pos',\n",
    "       'compound', 'nb_chars', 'nb_words','doc2vec_vector_0',\n",
    "       'doc2vec_vector_1', 'doc2vec_vector_2', 'doc2vec_vector_3',\n",
    "       'doc2vec_vector_4']\n",
    "# ignore_cols = [label, \"review\", \"review_clean\"]\n",
    "# features = [c for c in reviews_df.columns if c not in ignore_cols]\n",
    "\n",
    "# split the data into train and test\n",
    "from sklearn.ensemble import RandomForestClassifier\n",
    "from sklearn.model_selection import train_test_split\n",
    "\n",
    "X_train, X_test, y_train, y_test = train_test_split(reviews_df[vectors], reviews_df[label], test_size = 0.30, random_state = 42)\n",
    "\n",
    "\n"
   ]
  },
  {
   "cell_type": "code",
   "execution_count": 191,
   "metadata": {
    "scrolled": true
   },
   "outputs": [
    {
     "data": {
      "text/plain": [
       "RandomForestClassifier(bootstrap=True, class_weight=None, criterion='gini',\n",
       "                       max_depth=None, max_features='auto', max_leaf_nodes=None,\n",
       "                       min_impurity_decrease=0.0, min_impurity_split=None,\n",
       "                       min_samples_leaf=1, min_samples_split=2,\n",
       "                       min_weight_fraction_leaf=0.0, n_estimators=100,\n",
       "                       n_jobs=None, oob_score=False, random_state=0, verbose=0,\n",
       "                       warm_start=False)"
      ]
     },
     "execution_count": 191,
     "metadata": {},
     "output_type": "execute_result"
    }
   ],
   "source": [
    "text_classifier = RandomForestClassifier(n_estimators=100, random_state=0)\n",
    "text_classifier.fit(X_train, y_train)"
   ]
  },
  {
   "cell_type": "code",
   "execution_count": 192,
   "metadata": {},
   "outputs": [],
   "source": [
    "# combined_df = pd.concat([X_train, X_test])\n",
    "predictions = text_classifier.predict(X_test)\n",
    "# y_test = y_train\n",
    "# combined_y = y_train.append(y_test)\n",
    "# y_test = combined_y"
   ]
  },
  {
   "cell_type": "code",
   "execution_count": 193,
   "metadata": {},
   "outputs": [
    {
     "name": "stdout",
     "output_type": "stream",
     "text": [
      "41\n",
      "170\n"
     ]
    }
   ],
   "source": [
    "print(list(predictions).count(1))\n",
    "print(list(predictions).count(0))"
   ]
  },
  {
   "cell_type": "code",
   "execution_count": 194,
   "metadata": {},
   "outputs": [
    {
     "name": "stdout",
     "output_type": "stream",
     "text": [
      "[[156  12]\n",
      " [ 14  29]]\n",
      "              precision    recall  f1-score   support\n",
      "\n",
      "           0       0.92      0.93      0.92       168\n",
      "           1       0.71      0.67      0.69        43\n",
      "\n",
      "    accuracy                           0.88       211\n",
      "   macro avg       0.81      0.80      0.81       211\n",
      "weighted avg       0.87      0.88      0.88       211\n",
      "\n",
      "0.8767772511848341\n"
     ]
    }
   ],
   "source": [
    "from sklearn.metrics import classification_report, confusion_matrix, accuracy_score\n",
    "\n",
    "print(confusion_matrix(y_test,predictions))\n",
    "print(classification_report(y_test,predictions))\n",
    "print(accuracy_score(y_test, predictions))"
   ]
  },
  {
   "cell_type": "code",
   "execution_count": 195,
   "metadata": {},
   "outputs": [
    {
     "data": {
      "text/html": [
       "<div>\n",
       "<style scoped>\n",
       "    .dataframe tbody tr th:only-of-type {\n",
       "        vertical-align: middle;\n",
       "    }\n",
       "\n",
       "    .dataframe tbody tr th {\n",
       "        vertical-align: top;\n",
       "    }\n",
       "\n",
       "    .dataframe thead th {\n",
       "        text-align: right;\n",
       "    }\n",
       "</style>\n",
       "<table border=\"1\" class=\"dataframe\">\n",
       "  <thead>\n",
       "    <tr style=\"text-align: right;\">\n",
       "      <th></th>\n",
       "      <th>feature</th>\n",
       "      <th>importance</th>\n",
       "    </tr>\n",
       "  </thead>\n",
       "  <tbody>\n",
       "    <tr>\n",
       "      <th>3</th>\n",
       "      <td>compound</td>\n",
       "      <td>0.233483</td>\n",
       "    </tr>\n",
       "    <tr>\n",
       "      <th>2</th>\n",
       "      <td>pos</td>\n",
       "      <td>0.192225</td>\n",
       "    </tr>\n",
       "    <tr>\n",
       "      <th>0</th>\n",
       "      <td>neg</td>\n",
       "      <td>0.093126</td>\n",
       "    </tr>\n",
       "    <tr>\n",
       "      <th>7</th>\n",
       "      <td>doc2vec_vector_1</td>\n",
       "      <td>0.070537</td>\n",
       "    </tr>\n",
       "    <tr>\n",
       "      <th>9</th>\n",
       "      <td>doc2vec_vector_3</td>\n",
       "      <td>0.070194</td>\n",
       "    </tr>\n",
       "    <tr>\n",
       "      <th>1</th>\n",
       "      <td>neu</td>\n",
       "      <td>0.065212</td>\n",
       "    </tr>\n",
       "    <tr>\n",
       "      <th>6</th>\n",
       "      <td>doc2vec_vector_0</td>\n",
       "      <td>0.064505</td>\n",
       "    </tr>\n",
       "    <tr>\n",
       "      <th>8</th>\n",
       "      <td>doc2vec_vector_2</td>\n",
       "      <td>0.060623</td>\n",
       "    </tr>\n",
       "    <tr>\n",
       "      <th>10</th>\n",
       "      <td>doc2vec_vector_4</td>\n",
       "      <td>0.054504</td>\n",
       "    </tr>\n",
       "    <tr>\n",
       "      <th>4</th>\n",
       "      <td>nb_chars</td>\n",
       "      <td>0.054072</td>\n",
       "    </tr>\n",
       "    <tr>\n",
       "      <th>5</th>\n",
       "      <td>nb_words</td>\n",
       "      <td>0.041519</td>\n",
       "    </tr>\n",
       "  </tbody>\n",
       "</table>\n",
       "</div>"
      ],
      "text/plain": [
       "             feature  importance\n",
       "3           compound    0.233483\n",
       "2                pos    0.192225\n",
       "0                neg    0.093126\n",
       "7   doc2vec_vector_1    0.070537\n",
       "9   doc2vec_vector_3    0.070194\n",
       "1                neu    0.065212\n",
       "6   doc2vec_vector_0    0.064505\n",
       "8   doc2vec_vector_2    0.060623\n",
       "10  doc2vec_vector_4    0.054504\n",
       "4           nb_chars    0.054072\n",
       "5           nb_words    0.041519"
      ]
     },
     "execution_count": 195,
     "metadata": {},
     "output_type": "execute_result"
    }
   ],
   "source": [
    "# show feature importance\n",
    "feature_importances_df = pd.DataFrame({\"feature\": vectors, \"importance\": text_classifier.feature_importances_}).sort_values(\"importance\", ascending = False)\n",
    "feature_importances_df.head(20)"
   ]
  },
  {
   "cell_type": "markdown",
   "metadata": {},
   "source": [
    "# Predicting for entire one bank review data"
   ]
  },
  {
   "cell_type": "code",
   "execution_count": 205,
   "metadata": {},
   "outputs": [],
   "source": [
    "combined_df = pd.concat([X_train, X_test])\n",
    "combined_df.sort_index(inplace = True)\n",
    "predictions = text_classifier.predict(combined_df)\n",
    "# combined_y = y_train.append(y_test)\n",
    "combined_df['predictions'] = predictions\n",
    "predicted_df = pd.merge(combined_df['predictions'], reviews_df['review_clean'], left_index = True, right_index = True)\n",
    "# for idx in predicted_df.index:\n",
    "#     if idx> 4:\n",
    "#         break\n",
    "#     print(predicted_df.loc[idx, 'review_clean'], \"--------\", predicted_df.loc[idx, 'predictions'])\n",
    "pos_predicted_df = predicted_df.loc[predicted_df.predictions == 0]\n",
    "neg_predicted_df = predicted_df.loc[predicted_df.predictions == 1]\n",
    "pos_words_list = []\n",
    "neg_words_list = []\n",
    "\n",
    "for idx in pos_predicted_df.index:\n",
    "    review_words_list = pos_predicted_df.loc[idx, 'review_clean' ].split(' ')\n",
    "    pos_words_list = pos_words_list + review_words_list\n",
    "pos_words_list_2 = list(ngrams(pos_words_list, 2))\n",
    "pos_words_list_3 = list(ngrams(pos_words_list, 3))\n",
    "                        \n",
    "for idx in neg_predicted_df.index:\n",
    "    review_words_list = neg_predicted_df.loc[idx, 'review_clean' ].split(' ')\n",
    "    neg_words_list = neg_words_list + review_words_list\n",
    "neg_words_list_2 = list(ngrams(neg_words_list, 2))\n",
    "neg_words_list_3 = list(ngrams(neg_words_list, 3))"
   ]
  },
  {
   "cell_type": "code",
   "execution_count": 209,
   "metadata": {},
   "outputs": [],
   "source": [
    "pos_uni_counts = {}\n",
    "pos_bi_counts = {}\n",
    "pos_tri_counts = {}\n",
    "neg_uni_counts = {}\n",
    "neg_bi_counts = {}\n",
    "neg_tri_counts = {}\n",
    "for word in set(pos_words_list):\n",
    "    pos_uni_counts[word] = pos_words_list.count(word)\n",
    "for word in set(pos_words_list_2):\n",
    "    pos_bi_counts[word] = pos_words_list_2.count(word)\n",
    "for word in set(pos_words_list_3):\n",
    "    pos_tri_counts[word] = pos_words_list_3.count(word)\n",
    "    \n",
    "for word in set(neg_words_list):\n",
    "    neg_uni_counts[word] = neg_words_list.count(word)\n",
    "for word in set(neg_words_list_2):\n",
    "    neg_bi_counts[word] = neg_words_list_2.count(word)\n",
    "for word in set(neg_words_list_3):\n",
    "    neg_tri_counts[word] = neg_words_list_3.count(word)\n",
    "    \n"
   ]
  },
  {
   "cell_type": "code",
   "execution_count": 210,
   "metadata": {},
   "outputs": [],
   "source": [
    "import operator\n",
    "pos_uni_counts_sorted = sorted(pos_uni_counts.items(), key=operator.itemgetter(1))\n",
    "pos_uni_counts_df = pd.DataFrame(pos_uni_counts_sorted, columns =['Word', 'Count']).sort_values(by=['Count'], ascending = False)\n",
    "\n",
    "pos_bi_counts_sorted = sorted(pos_bi_counts.items(), key=operator.itemgetter(1))\n",
    "pos_bi_counts_df = pd.DataFrame(pos_bi_counts_sorted, columns =['Word', 'Count']).sort_values(by=['Count'], ascending = False)\n",
    "\n",
    "pos_tri_counts_sorted = sorted(pos_tri_counts.items(), key=operator.itemgetter(1))\n",
    "pos_tri_counts_df = pd.DataFrame(pos_tri_counts_sorted, columns =['Word', 'Count']).sort_values(by=['Count'], ascending = False)\n",
    "\n",
    "neg_uni_counts_sorted = sorted(neg_uni_counts.items(), key=operator.itemgetter(1))\n",
    "neg_uni_counts_df = pd.DataFrame(neg_uni_counts_sorted, columns =['Word', 'Count']).sort_values(by=['Count'], ascending = False)\n",
    "\n",
    "neg_bi_counts_sorted = sorted(neg_bi_counts.items(), key=operator.itemgetter(1))\n",
    "neg_bi_counts_df = pd.DataFrame(neg_bi_counts_sorted, columns =['Word', 'Count']).sort_values(by=['Count'], ascending = False)\n",
    "\n",
    "neg_tri_counts_sorted = sorted(neg_tri_counts.items(), key=operator.itemgetter(1))\n",
    "neg_tri_counts_df = pd.DataFrame(neg_tri_counts_sorted, columns =['Word', 'Count']).sort_values(by=['Count'], ascending = False)\n"
   ]
  },
  {
   "cell_type": "code",
   "execution_count": 218,
   "metadata": {},
   "outputs": [
    {
     "data": {
      "text/html": [
       "<div>\n",
       "<style scoped>\n",
       "    .dataframe tbody tr th:only-of-type {\n",
       "        vertical-align: middle;\n",
       "    }\n",
       "\n",
       "    .dataframe tbody tr th {\n",
       "        vertical-align: top;\n",
       "    }\n",
       "\n",
       "    .dataframe thead th {\n",
       "        text-align: right;\n",
       "    }\n",
       "</style>\n",
       "<table border=\"1\" class=\"dataframe\">\n",
       "  <thead>\n",
       "    <tr style=\"text-align: right;\">\n",
       "      <th></th>\n",
       "      <th>Word</th>\n",
       "      <th>Count</th>\n",
       "    </tr>\n",
       "  </thead>\n",
       "  <tbody>\n",
       "    <tr>\n",
       "      <th>33895</th>\n",
       "      <td>(savings, account, bank)</td>\n",
       "      <td>35</td>\n",
       "    </tr>\n",
       "    <tr>\n",
       "      <th>33894</th>\n",
       "      <td>(online, savings, account)</td>\n",
       "      <td>34</td>\n",
       "    </tr>\n",
       "    <tr>\n",
       "      <th>33893</th>\n",
       "      <td>(brick, mortar, bank)</td>\n",
       "      <td>30</td>\n",
       "    </tr>\n",
       "    <tr>\n",
       "      <th>33892</th>\n",
       "      <td>(competitive, interest, rates)</td>\n",
       "      <td>24</td>\n",
       "    </tr>\n",
       "    <tr>\n",
       "      <th>33891</th>\n",
       "      <td>(checking, savings, account)</td>\n",
       "      <td>22</td>\n",
       "    </tr>\n",
       "    <tr>\n",
       "      <th>33890</th>\n",
       "      <td>(call, customer, service)</td>\n",
       "      <td>21</td>\n",
       "    </tr>\n",
       "    <tr>\n",
       "      <th>33889</th>\n",
       "      <td>(checking, savings, accounts)</td>\n",
       "      <td>21</td>\n",
       "    </tr>\n",
       "    <tr>\n",
       "      <th>33888</th>\n",
       "      <td>(would, highly, recommend)</td>\n",
       "      <td>20</td>\n",
       "    </tr>\n",
       "    <tr>\n",
       "      <th>33886</th>\n",
       "      <td>(customer, service, great)</td>\n",
       "      <td>19</td>\n",
       "    </tr>\n",
       "    <tr>\n",
       "      <th>33887</th>\n",
       "      <td>(interest, rate, savings)</td>\n",
       "      <td>19</td>\n",
       "    </tr>\n",
       "    <tr>\n",
       "      <th>33885</th>\n",
       "      <td>(great, customer, service)</td>\n",
       "      <td>17</td>\n",
       "    </tr>\n",
       "    <tr>\n",
       "      <th>33884</th>\n",
       "      <td>(called, customer, service)</td>\n",
       "      <td>17</td>\n",
       "    </tr>\n",
       "    <tr>\n",
       "      <th>33883</th>\n",
       "      <td>(rate, savings, account)</td>\n",
       "      <td>16</td>\n",
       "    </tr>\n",
       "    <tr>\n",
       "      <th>33882</th>\n",
       "      <td>(contact, customer, service)</td>\n",
       "      <td>16</td>\n",
       "    </tr>\n",
       "    <tr>\n",
       "      <th>33881</th>\n",
       "      <td>(would, recommend, anyone)</td>\n",
       "      <td>16</td>\n",
       "    </tr>\n",
       "    <tr>\n",
       "      <th>33880</th>\n",
       "      <td>(website, easy, use)</td>\n",
       "      <td>16</td>\n",
       "    </tr>\n",
       "    <tr>\n",
       "      <th>33879</th>\n",
       "      <td>(brick, mortar, banks)</td>\n",
       "      <td>14</td>\n",
       "    </tr>\n",
       "    <tr>\n",
       "      <th>33878</th>\n",
       "      <td>(interest, rates, savings)</td>\n",
       "      <td>14</td>\n",
       "    </tr>\n",
       "    <tr>\n",
       "      <th>33877</th>\n",
       "      <td>(money, market, account)</td>\n",
       "      <td>13</td>\n",
       "    </tr>\n",
       "    <tr>\n",
       "      <th>33876</th>\n",
       "      <td>(opened, savings, account)</td>\n",
       "      <td>13</td>\n",
       "    </tr>\n",
       "    <tr>\n",
       "      <th>33874</th>\n",
       "      <td>(high, interest, rates)</td>\n",
       "      <td>12</td>\n",
       "    </tr>\n",
       "    <tr>\n",
       "      <th>33875</th>\n",
       "      <td>(reimburse, atm, fees)</td>\n",
       "      <td>12</td>\n",
       "    </tr>\n",
       "    <tr>\n",
       "      <th>33868</th>\n",
       "      <td>(account, another, bank)</td>\n",
       "      <td>11</td>\n",
       "    </tr>\n",
       "    <tr>\n",
       "      <th>33873</th>\n",
       "      <td>(account, savings, account)</td>\n",
       "      <td>11</td>\n",
       "    </tr>\n",
       "    <tr>\n",
       "      <th>33872</th>\n",
       "      <td>(bank, checking, account)</td>\n",
       "      <td>11</td>\n",
       "    </tr>\n",
       "  </tbody>\n",
       "</table>\n",
       "</div>"
      ],
      "text/plain": [
       "                                 Word  Count\n",
       "33895        (savings, account, bank)     35\n",
       "33894      (online, savings, account)     34\n",
       "33893           (brick, mortar, bank)     30\n",
       "33892  (competitive, interest, rates)     24\n",
       "33891    (checking, savings, account)     22\n",
       "33890       (call, customer, service)     21\n",
       "33889   (checking, savings, accounts)     21\n",
       "33888      (would, highly, recommend)     20\n",
       "33886      (customer, service, great)     19\n",
       "33887       (interest, rate, savings)     19\n",
       "33885      (great, customer, service)     17\n",
       "33884     (called, customer, service)     17\n",
       "33883        (rate, savings, account)     16\n",
       "33882    (contact, customer, service)     16\n",
       "33881      (would, recommend, anyone)     16\n",
       "33880            (website, easy, use)     16\n",
       "33879          (brick, mortar, banks)     14\n",
       "33878      (interest, rates, savings)     14\n",
       "33877        (money, market, account)     13\n",
       "33876      (opened, savings, account)     13\n",
       "33874         (high, interest, rates)     12\n",
       "33875          (reimburse, atm, fees)     12\n",
       "33868        (account, another, bank)     11\n",
       "33873     (account, savings, account)     11\n",
       "33872       (bank, checking, account)     11"
      ]
     },
     "execution_count": 218,
     "metadata": {},
     "output_type": "execute_result"
    }
   ],
   "source": [
    "pos_tri_counts_df.head(25)"
   ]
  },
  {
   "cell_type": "markdown",
   "metadata": {},
   "source": [
    "# from sklearn.linear_model import LogisticRegression\n",
    "from sklearn.metrics import accuracy_score\n",
    "from sklearn.model_selection import train_test_split"
   ]
  },
  {
   "cell_type": "markdown",
   "metadata": {},
   "source": [
    "#### Logistic Regression Model Fitting"
   ]
  },
  {
   "cell_type": "code",
   "execution_count": 32,
   "metadata": {},
   "outputs": [
    {
     "name": "stderr",
     "output_type": "stream",
     "text": [
      "C:\\ProgramData\\Anaconda3\\lib\\site-packages\\sklearn\\linear_model\\logistic.py:432: FutureWarning: Default solver will be changed to 'lbfgs' in 0.22. Specify a solver to silence this warning.\n",
      "  FutureWarning)\n"
     ]
    },
    {
     "data": {
      "text/plain": [
       "LogisticRegression(C=1.0, class_weight=None, dual=False, fit_intercept=True,\n",
       "                   intercept_scaling=1, l1_ratio=None, max_iter=100,\n",
       "                   multi_class='warn', n_jobs=None, penalty='l2',\n",
       "                   random_state=None, solver='warn', tol=0.0001, verbose=0,\n",
       "                   warm_start=False)"
      ]
     },
     "execution_count": 32,
     "metadata": {},
     "output_type": "execute_result"
    }
   ],
   "source": [
    "from sklearn.linear_model import LogisticRegression\n",
    "from sklearn import metrics\n",
    "\n",
    "\n",
    "\n",
    "label = \"is_bad_review\"\n",
    "ignore_cols = [label, \"review\", \"review_clean\"]\n",
    "features = [c for c in reviews_df.columns if c not in ignore_cols]\n",
    "\n",
    "\n",
    "\n",
    "X_train, X_test, y_train, y_test = train_test_split(reviews_df[features], reviews_df[label], test_size = 0.20, random_state = 42)\n",
    "\n",
    "logreg = LogisticRegression()\n",
    "logreg.fit(X_train, y_train)"
   ]
  },
  {
   "cell_type": "code",
   "execution_count": 33,
   "metadata": {
    "scrolled": true
   },
   "outputs": [
    {
     "name": "stdout",
     "output_type": "stream",
     "text": [
      "51\n",
      "52\n",
      "Accuracy of logistic regression classifier on test set: 0.80\n"
     ]
    }
   ],
   "source": [
    "y_pred = logreg.predict(X_test)\n",
    "print(list(predictions).count(1))\n",
    "print(list(predictions).count(0))\n",
    "print('Accuracy of logistic regression classifier on test set: {:.2f}'.format(logreg.score(X_test, y_test)))"
   ]
  },
  {
   "cell_type": "code",
   "execution_count": 34,
   "metadata": {},
   "outputs": [
    {
     "name": "stdout",
     "output_type": "stream",
     "text": [
      "[[32  5]\n",
      " [ 9 23]]\n"
     ]
    }
   ],
   "source": [
    "# Confusion Matrix\n",
    "from sklearn.metrics import confusion_matrix\n",
    "confusion_matrix = confusion_matrix(y_test, y_pred)\n",
    "print(confusion_matrix)      \n",
    "#The result is telling us that we have 382+198 correct predictions and 69+23 incorrect predictions.\n",
    "#Compute precision, recall, "
   ]
  },
  {
   "cell_type": "code",
   "execution_count": 35,
   "metadata": {},
   "outputs": [
    {
     "name": "stdout",
     "output_type": "stream",
     "text": [
      "              precision    recall  f1-score   support\n",
      "\n",
      "           0       0.78      0.86      0.82        37\n",
      "           1       0.82      0.72      0.77        32\n",
      "\n",
      "    accuracy                           0.80        69\n",
      "   macro avg       0.80      0.79      0.79        69\n",
      "weighted avg       0.80      0.80      0.80        69\n",
      "\n"
     ]
    }
   ],
   "source": [
    "# Compute precision, recall, F-measure and support\n",
    "from sklearn.metrics import classification_report\n",
    "print(classification_report(y_test, y_pred))"
   ]
  },
  {
   "cell_type": "code",
   "execution_count": 36,
   "metadata": {},
   "outputs": [],
   "source": [
    "# from sklearn.feature_extraction.text import CountVectorizer\n",
    "\n",
    "# cv = CountVectorizer(binary=True)\n",
    "# cv.fit(X_train)\n",
    "# X = cv.transform(X_train)\n",
    "# X_test = cv.transform(X_test)\n",
    "\n"
   ]
  },
  {
   "cell_type": "code",
   "execution_count": 37,
   "metadata": {},
   "outputs": [],
   "source": [
    "# feature_to_coef = {\n",
    "#     word: coef for word, coef in zip(\n",
    "#         cv.get_feature_names(), logreg.coef_[0]\n",
    "#     )\n",
    "# }\n",
    "# for best_positive in sorted(\n",
    "#     feature_to_coef.items(), \n",
    "#     key=lambda x: x[1], \n",
    "#     reverse=True)[:5]:\n",
    "#     print (best_positive)"
   ]
  },
  {
   "cell_type": "code",
   "execution_count": 38,
   "metadata": {},
   "outputs": [],
   "source": [
    "# for best_negative in sorted(\n",
    "#     feature_to_coef.items(), \n",
    "#     key=lambda x: x[1])[:5]:\n",
    "#     print (best_negative)"
   ]
  },
  {
   "cell_type": "markdown",
   "metadata": {},
   "source": [
    "# Unsupervised learning sentiment analysis"
   ]
  },
  {
   "cell_type": "markdown",
   "metadata": {},
   "source": [
    "### TextBlob"
   ]
  },
  {
   "cell_type": "code",
   "execution_count": 39,
   "metadata": {},
   "outputs": [],
   "source": [
    "# from textblob import TextBlob"
   ]
  },
  {
   "cell_type": "code",
   "execution_count": 40,
   "metadata": {},
   "outputs": [],
   "source": [
    "# # read data\n",
    "# reviews = pd.read_csv('/Users/yishanxu/Desktop/review_data.csv',index_col=[0])\n",
    "# reviews.head()"
   ]
  },
  {
   "cell_type": "code",
   "execution_count": 41,
   "metadata": {},
   "outputs": [],
   "source": [
    "# reviews = reviews.drop(columns=['review_id', 'bank_id', 'user_id', 'date_posted'], axis=0)\n",
    "# reviews['review']= reviews['review'].apply(str)\n",
    "# reviews.head()"
   ]
  },
  {
   "cell_type": "code",
   "execution_count": 42,
   "metadata": {},
   "outputs": [],
   "source": [
    "# # create new review column(clean)\n",
    "# reviews['review_clean'] = pd.DataFrame(reviews['review'].map(preprocess))\n",
    "# reviews.head(1)"
   ]
  },
  {
   "cell_type": "code",
   "execution_count": 43,
   "metadata": {},
   "outputs": [],
   "source": [
    "# # Get the polarity score function\n",
    "# def get_textBlob_score(review):\n",
    "#     # This polarity score is between -1 to 1\n",
    "#     polarity = TextBlob(review).sentiment.polarity\n",
    "#     return polarity"
   ]
  },
  {
   "cell_type": "code",
   "execution_count": 44,
   "metadata": {},
   "outputs": [],
   "source": [
    "# reviews['sentiment']=reviews['review_clean'].apply(get_textBlob_score)"
   ]
  },
  {
   "cell_type": "code",
   "execution_count": 45,
   "metadata": {},
   "outputs": [],
   "source": [
    "# reviews['sentiment'].mean()\n",
    "# reviews"
   ]
  },
  {
   "cell_type": "markdown",
   "metadata": {},
   "source": [
    "### NLTK-VADER"
   ]
  },
  {
   "cell_type": "code",
   "execution_count": 46,
   "metadata": {},
   "outputs": [],
   "source": [
    "# from nltk.sentiment.vader import SentimentIntensityAnalyzer\n",
    "# sid = SentimentIntensityAnalyzer()"
   ]
  },
  {
   "cell_type": "code",
   "execution_count": 47,
   "metadata": {},
   "outputs": [],
   "source": [
    "# def get_vader_score(sent):\n",
    "#     # Polarity score returns dictionary\n",
    "#     ss = sid.polarity_scores(sent)\n",
    "#     for k in sorted(ss):\n",
    "#         print('{0}: {1}, '.format(k, ss[k]), end='')\n",
    "#         print()\n",
    "# #  print('{0}: {1}, '.format(k, ss[k]), end='')\n",
    "# #         print(ss.items())       \n"
   ]
  },
  {
   "cell_type": "code",
   "execution_count": 48,
   "metadata": {},
   "outputs": [],
   "source": [
    "# reviews['sentiment']=reviews['review_clean'].apply(get_vader_score)\n",
    "# reviews['sentiment'].mean()\n",
    "# reviews"
   ]
  }
 ],
 "metadata": {
  "kernelspec": {
   "display_name": "Python 3",
   "language": "python",
   "name": "python3"
  },
  "language_info": {
   "codemirror_mode": {
    "name": "ipython",
    "version": 3
   },
   "file_extension": ".py",
   "mimetype": "text/x-python",
   "name": "python",
   "nbconvert_exporter": "python",
   "pygments_lexer": "ipython3",
   "version": "3.7.3"
  }
 },
 "nbformat": 4,
 "nbformat_minor": 2
}
